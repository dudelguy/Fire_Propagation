{
 "cells": [
  {
   "cell_type": "markdown",
   "metadata": {},
   "source": [
    "# Downloading Sentinel-2 data \n",
    "\n",
    "This notebook provides code on how to download Sentinel-2 data from Google Earth Engine (GEE). This specific example is closely connected to the creation of a fire propagation database. After creating the individual burned area propagation files, Sentinel-2 data is downloaded according to the shape and the geographical position of the burned area images. Nevertheless, the presented code can be used to download Sentinel-2 data for every other shape as well. \n",
    "\n",
    "The Sentinel-2 data is processed in GEE to create cloud-free composit images, before EEs computePixels function is used to transfer the data from server to client side. To increase the speed of this process, and to enable the download of Sentinel-2 data for large areas, the original shape is divided into a predefined number of equally sized squares. After the download, these squares are combined to reconstruct the original image.  \n",
    "\n",
    "For fire propagation, information from other remote sensing collections is interesting, too. We therefore offer the option to include the Digital Elevation Model (DEM) from the TanDEM-X mission, as well as the Dynamic Land Cover classification to the downloaded Sentine-2 data. "
   ]
  },
  {
   "cell_type": "markdown",
   "metadata": {},
   "source": [
    "### 1. Importing the necessary libraries\n",
    "\n",
    "While importing most necessary libraries can be done normally (e.g., using conda-forge and a specified conda environment), GDAL is used in geopandas, rasterio and rioxarray, which can sometimes lead to conflicts. This can be circumvented by following a specific order of installation. In the presented example, we used the Python Version 3.11.9 and installed the aformentioned packages in the following order:\n",
    "1. conda install -c conda-forge gdal\n",
    "2. conda install -c conda-forge geopandas rasterio\n",
    "3. conda install -c conda-forge rioxarray"
   ]
  },
  {
   "cell_type": "code",
   "execution_count": 1,
   "metadata": {},
   "outputs": [],
   "source": [
    "# import necessary libraries\n",
    "import pandas as pd\n",
    "import geopandas as geo"
   ]
  },
  {
   "cell_type": "markdown",
   "metadata": {},
   "source": [
    "### 2. Import the modules for downloading Sentinel-2 data from Google Earth Engine"
   ]
  },
  {
   "cell_type": "code",
   "execution_count": 2,
   "metadata": {},
   "outputs": [],
   "source": [
    "from sent2_from_ee import retrieve_sent2_from_ee"
   ]
  },
  {
   "cell_type": "markdown",
   "metadata": {},
   "source": [
    "Read the geopandas dataframe that contains the shapes for which the Sentinel-2 data is supposed to be extracted.\n",
    "This dataframe needs to be reprojected to the CRS 4326, since this is the CRS of Sentinel-2 in Google Earth Engine. \n",
    "\n",
    "If this code is directly used after creating the fire propagation database, gdf_poly already exists as a variable and it can be used accordingly. . "
   ]
  },
  {
   "cell_type": "code",
   "execution_count": 9,
   "metadata": {},
   "outputs": [],
   "source": [
    "gdf_poly = geo.read_file(\".../shapes_of_burned_areas.shp\")\n",
    "gdf_poly_4326 = gdf_poly.to_crs(4326)\n",
    "\n",
    "# The date is needed to extract the correct data from the GEE collection. This line ensures that the date column includes a datetime object\n",
    "gdf_poly_4326[\"date\"] = pd.to_datetime(gdf_poly_4326[\"date\"])"
   ]
  },
  {
   "cell_type": "markdown",
   "metadata": {},
   "source": [
    "To download Sentinel-2 from GEE, we wrote the 'retrieve_sent2_from_ee' class.\n",
    "A new instance of this class needs to be initialized. \n",
    "\n",
    "The two necessary variables for initialization include:\n",
    "1. A geopandas dataframe with the shapes for which you want to retrieve the Sentinel-2 data, and \n",
    "2. Your Google Earth Engine project name. This is needed for authentification"
   ]
  },
  {
   "cell_type": "code",
   "execution_count": 12,
   "metadata": {},
   "outputs": [],
   "source": [
    "# initialize the retrieve_sent2_from_ee class\n",
    "get_sent2 = retrieve_sent2_from_ee(burned_area_poly=gdf_poly_4326, proj_ee = 'your GEE project name')"
   ]
  },
  {
   "cell_type": "markdown",
   "metadata": {},
   "source": [
    "Using the Google Earth Engine API with Python requires an authentification.\n",
    "'authenticate_ee()' takes care of this. To work properly, ´the correct project name needs to be provided while initializing the new instance of the 'retrieve_sent2_from_ee class'."
   ]
  },
  {
   "cell_type": "code",
   "execution_count": 13,
   "metadata": {},
   "outputs": [],
   "source": [
    "# initialize to google earth engine\n",
    "get_sent2.authenticate_ee()"
   ]
  },
  {
   "cell_type": "markdown",
   "metadata": {},
   "source": [
    "After transferring the files from server to client (i.e., downloading the data from GEE), they are saved as raster files in the specified the output path. \n",
    "\n",
    "In this example, only specific Sentinel-2 bands are useful for fire related tasks. If other bands are needed, the list_of_bands parameter can be adjusted accordingly."
   ]
  },
  {
   "cell_type": "code",
   "execution_count": null,
   "metadata": {},
   "outputs": [],
   "source": [
    "# set path to save the raster files\n",
    "out_path = \".../sentinel2\"\n",
    "\n",
    "# download the sentinel-2 data and save them in the output path.\n",
    "# Here, the data is only downloaded for the first shape of the geodataframe.\n",
    "# To download data for every shape of the geodataframe, the function 'download_sent2' needs to be iterate over every individual shape.\n",
    "get_sent2.download_sent2(sel_polygon = gdf_poly_4326.iloc[0], \n",
    "                         start_date_fire = gdf_poly_4326.iloc[0].date, \n",
    "                         day_dif_for_composite_img = 29, \n",
    "                         num_sub_images = 2, \n",
    "                         out_path = out_path, \n",
    "                         list_of_bands = [\"B2\", \"B3\", \"B4\", \"B8\", \"B11\", \"B12\"],\n",
    "                         crs = 4326)"
   ]
  }
 ],
 "metadata": {
  "kernelspec": {
   "display_name": "data",
   "language": "python",
   "name": "python3"
  },
  "language_info": {
   "codemirror_mode": {
    "name": "ipython",
    "version": 3
   },
   "file_extension": ".py",
   "mimetype": "text/x-python",
   "name": "python",
   "nbconvert_exporter": "python",
   "pygments_lexer": "ipython3",
   "version": "3.11.9"
  }
 },
 "nbformat": 4,
 "nbformat_minor": 2
}
